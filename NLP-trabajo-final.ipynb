{
 "cells": [
  {
   "cell_type": "markdown",
   "metadata": {
    "id": "DSZruQHnBkEO"
   },
   "source": [
    "# Trabajo Final procesamiento de lenguaje natural (NLP) <a class=\"tocSkip\">\n",
    "## Universidad Pontificia Bolivariana <a class=\"tocSkip\">\n",
    "\n",
    "**Estudiante:** Ana Maria Gutierrez\n",
    "\n",
    "**ID:** 000150465\n",
    "\n",
    "\n",
    "\n",
    "**Subir Este notebook de Trabajo Final en su repositorio de GitHub. y enviar el link en **Microsoft TEAMS**\n",
    "\n",
    "Docente: [Jose R. Zapata](https://joserzapata.github.io)\n",
    "- https://joserzapata.github.io\n",
    "- https://www.linkedin.com/in/jose-ricardo-zapata-gonzalez/       \n"
   ]
  },
  {
   "cell_type": "markdown",
   "metadata": {},
   "source": [
    "## Objetivo del Trabajo\n",
    "Realizar un proceso de Procesamiento de lenguaje natural (NLP) para dejar los datos preparados para ser usados con algoritmos de Machine Learning para Clasificación como objetivo final del trabajo.\n",
    "\n",
    "los datos preparados para ser usados con algoritmos de Machine Learning para Regresión o Clasificación como objetivo final del trabajo.\n",
    "\n",
    "El trabajo se realizara en este jupyter notebook y subirlo a su repositorio de github creado en clase. (**Recuerde poner su nombre e información**)\n",
    "\n",
    "## Las actividades a realizar\n",
    "    \n",
    "\n",
    "1) Limpiar los datos de texto.\n",
    "\n",
    "   - https://joserzapata.github.io/courses/nlp/procesamiento-basico/\n",
    "\n",
    "   - https://joserzapata.github.io/courses/nlp/preprocesamiento-texto/\n",
    "\n",
    "2) Realizar la representación de texto:\n",
    "\n",
    "   - https://joserzapata.github.io/courses/nlp/representaciones/\n",
    "\n",
    "   - Tokenización\n",
    "   - Lematización o stemming\n",
    "   - Representación de los datos de texto (Bag of Words o TF-IDF)\n",
    "\n",
    "3) Utilice un modelo de Machine Learning para clasificación para entrenar y evaluar el modelo.\n",
    "        \n",
    "    - Calcule estas las métricas de evaluación (accuracy, precision, recall, f1-score) - https://joserzapata.github.io/courses/python-ciencia-datos/clasificacion/#evaluacion-modelo-simple\n",
    "\n",
    "\n",
    "    \n",
    "   \n",
    "    \n",
    "*NOTA: No dude en contactarme para cualquier pregunta o inquietud :) por el chat de Teams o al correo\n",
    "joser.zapata@upb.edu.co*\n",
    "\n",
    "## EVALUACIÓN\n",
    "\n",
    "\n",
    "|Porcentaje en la evaluación | Descripción| Nada | Incompleto | Completo \n",
    "| :---: |:---: |:---: |:---: |:---: \n",
    "| 5 % |**limpieza de los datos** |\n",
    "| 5 % | **Representacion de los datos** |\n",
    "| 5 % | **Machine Learning** <br> Entrenar y evaluar el modelo propuesto |\n"
   ]
  },
  {
   "cell_type": "code",
   "execution_count": 44,
   "metadata": {
    "executionInfo": {
     "elapsed": 1784,
     "status": "ok",
     "timestamp": 1742313766605,
     "user": {
      "displayName": "Carlos Bustillo",
      "userId": "14895763228834044971"
     },
     "user_tz": 180
    },
    "id": "FbX4vPbang_e"
   },
   "outputs": [],
   "source": [
    "import pandas as pd\n",
    "\n",
    "\n",
    "from sklearn.metrics import (\n",
    "    accuracy_score,\n",
    "    precision_score,\n",
    "    recall_score,\n",
    "    f1_score,\n",
    "    roc_auc_score,\n",
    "    classification_report,\n",
    ")\n",
    "from sklearn.model_selection import train_test_split"
   ]
  },
  {
   "cell_type": "markdown",
   "metadata": {
    "id": "kLpaicLXninI"
   },
   "source": [
    "Carga del dataset\n",
    "\n",
    "El archivo  se carga en aproximadamente 10 segundos"
   ]
  },
  {
   "cell_type": "code",
   "execution_count": 45,
   "metadata": {
    "executionInfo": {
     "elapsed": 443,
     "status": "ok",
     "timestamp": 1742313775953,
     "user": {
      "displayName": "Carlos Bustillo",
      "userId": "14895763228834044971"
     },
     "user_tz": 180
    },
    "id": "Xh8VOY5Mnjmo"
   },
   "outputs": [
    {
     "name": "stdout",
     "output_type": "stream",
     "text": [
      "<class 'pandas.core.frame.DataFrame'>\n",
      "Index: 50000 entries, 64933 to 114882\n",
      "Data columns (total 2 columns):\n",
      " #   Column              Non-Null Count  Dtype \n",
      "---  ------              --------------  ----- \n",
      " 0   author_review_desc  50000 non-null  string\n",
      " 1   author_rating       50000 non-null  int64 \n",
      "dtypes: int64(1), string(1)\n",
      "memory usage: 1.1 MB\n"
     ]
    }
   ],
   "source": [
    "# Usar su ID UPB Ejemplo: \"0028984798\"\n",
    "id_upb = \"000150465\"\n",
    "\n",
    "data_reviews = pd.read_parquet(\n",
    "    \"https://www.dropbox.com/scl/fi/gvk9yj8cn96oocr9z058x/filmaffinity_reviews_dataset.parquet?rlkey=xgvr00zvkxbkwqqavqutpsshg&st=xjb7xze9&dl=1\"\n",
    ")\n",
    "data_reviews = data_reviews.sample(n=50_000, random_state=int(id_upb))\n",
    "data_reviews.info()"
   ]
  },
  {
   "cell_type": "markdown",
   "metadata": {
    "id": "gGD-mkRRnm01"
   },
   "source": [
    "Ejemplo de algunas filas del dataset"
   ]
  },
  {
   "cell_type": "code",
   "execution_count": 46,
   "metadata": {
    "colab": {
     "base_uri": "https://localhost:8080/",
     "height": 143
    },
    "executionInfo": {
     "elapsed": 56,
     "status": "ok",
     "timestamp": 1742313777216,
     "user": {
      "displayName": "Carlos Bustillo",
      "userId": "14895763228834044971"
     },
     "user_tz": 180
    },
    "id": "rIsJnVvPnnvc",
    "outputId": "a97d6896-3f9b-4a02-88fc-f3e6f84d0602"
   },
   "outputs": [
    {
     "data": {
      "text/html": [
       "<div>\n",
       "<style scoped>\n",
       "    .dataframe tbody tr th:only-of-type {\n",
       "        vertical-align: middle;\n",
       "    }\n",
       "\n",
       "    .dataframe tbody tr th {\n",
       "        vertical-align: top;\n",
       "    }\n",
       "\n",
       "    .dataframe thead th {\n",
       "        text-align: right;\n",
       "    }\n",
       "</style>\n",
       "<table border=\"1\" class=\"dataframe\">\n",
       "  <thead>\n",
       "    <tr style=\"text-align: right;\">\n",
       "      <th></th>\n",
       "      <th>author_review_desc</th>\n",
       "      <th>author_rating</th>\n",
       "    </tr>\n",
       "  </thead>\n",
       "  <tbody>\n",
       "    <tr>\n",
       "      <th>127794</th>\n",
       "      <td>\\nNo importa cuántas veces la vea, Your Name s...</td>\n",
       "      <td>10</td>\n",
       "    </tr>\n",
       "    <tr>\n",
       "      <th>118229</th>\n",
       "      <td>\\nNo quiero decir con ello que la peli sea mal...</td>\n",
       "      <td>6</td>\n",
       "    </tr>\n",
       "    <tr>\n",
       "      <th>125469</th>\n",
       "      <td>\\nEsta película es un fiasco tan enorme que só...</td>\n",
       "      <td>3</td>\n",
       "    </tr>\n",
       "    <tr>\n",
       "      <th>106952</th>\n",
       "      <td>\\nNo sé que nos ha dado por las series coreana...</td>\n",
       "      <td>5</td>\n",
       "    </tr>\n",
       "    <tr>\n",
       "      <th>87015</th>\n",
       "      <td>\\nSencillamente espantosa. Una buenísima pelíc...</td>\n",
       "      <td>8</td>\n",
       "    </tr>\n",
       "  </tbody>\n",
       "</table>\n",
       "</div>"
      ],
      "text/plain": [
       "                                       author_review_desc  author_rating\n",
       "127794  \\nNo importa cuántas veces la vea, Your Name s...             10\n",
       "118229  \\nNo quiero decir con ello que la peli sea mal...              6\n",
       "125469  \\nEsta película es un fiasco tan enorme que só...              3\n",
       "106952  \\nNo sé que nos ha dado por las series coreana...              5\n",
       "87015   \\nSencillamente espantosa. Una buenísima pelíc...              8"
      ]
     },
     "execution_count": 46,
     "metadata": {},
     "output_type": "execute_result"
    }
   ],
   "source": [
    "data_reviews.sample(5)"
   ]
  },
  {
   "cell_type": "markdown",
   "metadata": {
    "id": "nKA9UPk6p7bZ"
   },
   "source": [
    "Evaluar los valores nulos"
   ]
  },
  {
   "cell_type": "code",
   "execution_count": 47,
   "metadata": {
    "colab": {
     "base_uri": "https://localhost:8080/",
     "height": 147
    },
    "executionInfo": {
     "elapsed": 47,
     "status": "ok",
     "timestamp": 1742313779074,
     "user": {
      "displayName": "Carlos Bustillo",
      "userId": "14895763228834044971"
     },
     "user_tz": 180
    },
    "id": "2wwqoksvqQFk",
    "outputId": "fea4451b-9936-4eb7-b1b9-14fd83f7c72f"
   },
   "outputs": [
    {
     "data": {
      "text/plain": [
       "author_review_desc    0\n",
       "author_rating         0\n",
       "dtype: int64"
      ]
     },
     "execution_count": 47,
     "metadata": {},
     "output_type": "execute_result"
    }
   ],
   "source": [
    "data_reviews.isnull().sum()"
   ]
  },
  {
   "cell_type": "markdown",
   "metadata": {},
   "source": [
    "En este caso no hay nulos."
   ]
  },
  {
   "cell_type": "markdown",
   "metadata": {},
   "source": [
    "Revisar si hay valores duplicados:"
   ]
  },
  {
   "cell_type": "code",
   "execution_count": 48,
   "metadata": {},
   "outputs": [
    {
     "data": {
      "text/plain": [
       "np.int64(4)"
      ]
     },
     "execution_count": 48,
     "metadata": {},
     "output_type": "execute_result"
    }
   ],
   "source": [
    "data_reviews.duplicated().sum()"
   ]
  },
  {
   "cell_type": "markdown",
   "metadata": {},
   "source": [
    "No hay  valores duplicados."
   ]
  },
  {
   "cell_type": "markdown",
   "metadata": {
    "id": "ZiBcIGoZsQJC"
   },
   "source": [
    "## Clasificación Tradicional para Análisis de Sentimientos y Categorías 👍 👎\n",
    "\n"
   ]
  },
  {
   "cell_type": "markdown",
   "metadata": {
    "id": "FPUGUs9AmA_b"
   },
   "source": [
    "Definición: Se considera reseña positiva cuando la puntuación (\"author_rating\") es mayor que 6; negativa en caso contrario."
   ]
  },
  {
   "cell_type": "markdown",
   "metadata": {
    "id": "7ZTzGi7tmMBN"
   },
   "source": [
    "Crear la variable binaria de sentimiento: 1 (positivo) si author_rating > 6, 0 (negativo) de lo contrario"
   ]
  },
  {
   "cell_type": "code",
   "execution_count": 49,
   "metadata": {
    "executionInfo": {
     "elapsed": 73,
     "status": "ok",
     "timestamp": 1742314413450,
     "user": {
      "displayName": "Carlos Bustillo",
      "userId": "14895763228834044971"
     },
     "user_tz": 180
    },
    "id": "Wu66d05mmKtT"
   },
   "outputs": [],
   "source": [
    "UMBRAL = 6\n",
    "data_reviews[\"sentiment_bin\"] = (data_reviews[\"author_rating\"] > UMBRAL).astype(int)"
   ]
  },
  {
   "cell_type": "code",
   "execution_count": 50,
   "metadata": {},
   "outputs": [],
   "source": [
    "# Dividir los datos en conjuntos de entrenamiento y prueba\n",
    "\n",
    "X_data = data_reviews[\"author_review_desc\"]\n",
    "y_data = data_reviews[\"sentiment_bin\"]\n"
   ]
  },
  {
   "cell_type": "markdown",
   "metadata": {},
   "source": [
    "Dividir el dataset en entrenamiento y prueba"
   ]
  },
  {
   "cell_type": "code",
   "execution_count": 51,
   "metadata": {},
   "outputs": [],
   "source": [
    "X_train, X_test, y_train, y_test = train_test_split(\n",
    "    X_data,\n",
    "    y_data,\n",
    "    test_size=0.2,\n",
    "    stratify=y_data,  # Mantener la proporción de clases en ambos conjuntos\n",
    "    random_state=42,\n",
    ")"
   ]
  },
  {
   "cell_type": "markdown",
   "metadata": {},
   "source": [
    "## Análisis exploratorio de los datos\n",
    "\n",
    "para determinar que tipo de limpieza se debe realizar a los datos de texto de `X_train`"
   ]
  },
  {
   "cell_type": "code",
   "execution_count": 52,
   "metadata": {},
   "outputs": [
    {
     "data": {
      "text/plain": [
       "np.float64(0.001625)"
      ]
     },
     "execution_count": 52,
     "metadata": {},
     "output_type": "execute_result"
    }
   ],
   "source": [
    "X_train.str.contains(r\"http\").mean()     # porcentaje con URLs\n",
    "X_train.str.contains(r\"@\\w+\").mean()     # porcentaje con menciones\n",
    "X_train.str.contains(r\"#\\w+\").mean()     # hashtags"
   ]
  },
  {
   "cell_type": "code",
   "execution_count": 53,
   "metadata": {},
   "outputs": [
    {
     "data": {
      "text/plain": [
       "count    40000.000000\n",
       "mean       237.173375\n",
       "std        179.950894\n",
       "min          4.000000\n",
       "25%        108.000000\n",
       "50%        186.000000\n",
       "75%        313.000000\n",
       "max       1108.000000\n",
       "Name: author_review_desc, dtype: float64"
      ]
     },
     "execution_count": 53,
     "metadata": {},
     "output_type": "execute_result"
    }
   ],
   "source": [
    "X_train.apply(lambda x: len(x.split())).describe()\n"
   ]
  },
  {
   "cell_type": "markdown",
   "metadata": {},
   "source": [
    "## 1) Limpieza de los datos de texto\n",
    "\n",
    "Tomar los datos de `X_train` y aplicar las funciones de limpieza que considere necesarias\n",
    "\n",
    "Ayudas:\n",
    "\n",
    "- Convertir a minúsculas\n",
    "- Eliminar caracteres especiales y números\n",
    "- Corregir palabras mal escritas\n",
    "- etc\n"
   ]
  },
  {
   "cell_type": "code",
   "execution_count": 54,
   "metadata": {},
   "outputs": [
    {
     "data": {
      "text/html": [
       "<div>\n",
       "<style scoped>\n",
       "    .dataframe tbody tr th:only-of-type {\n",
       "        vertical-align: middle;\n",
       "    }\n",
       "\n",
       "    .dataframe tbody tr th {\n",
       "        vertical-align: top;\n",
       "    }\n",
       "\n",
       "    .dataframe thead th {\n",
       "        text-align: right;\n",
       "    }\n",
       "</style>\n",
       "<table border=\"1\" class=\"dataframe\">\n",
       "  <thead>\n",
       "    <tr style=\"text-align: right;\">\n",
       "      <th></th>\n",
       "      <th>Original</th>\n",
       "      <th>Minúsculas</th>\n",
       "    </tr>\n",
       "  </thead>\n",
       "  <tbody>\n",
       "    <tr>\n",
       "      <th>35217</th>\n",
       "      <td>\\nUna vez más, las loables intenciones son mej...</td>\n",
       "      <td>\\nuna vez más, las loables intenciones son mej...</td>\n",
       "    </tr>\n",
       "    <tr>\n",
       "      <th>91008</th>\n",
       "      <td>\\nHacer cine, hacer buen cine es una tarea con...</td>\n",
       "      <td>\\nhacer cine, hacer buen cine es una tarea con...</td>\n",
       "    </tr>\n",
       "    <tr>\n",
       "      <th>69408</th>\n",
       "      <td>\\n¿Quién dijo rigor histórico? Tarantino desde...</td>\n",
       "      <td>\\n¿quién dijo rigor histórico? tarantino desde...</td>\n",
       "    </tr>\n",
       "    <tr>\n",
       "      <th>51452</th>\n",
       "      <td>\\nTony Scott dirige este remake del clásico de...</td>\n",
       "      <td>\\ntony scott dirige este remake del clásico de...</td>\n",
       "    </tr>\n",
       "    <tr>\n",
       "      <th>55503</th>\n",
       "      <td>\\nPelícula de terror postapocalíptico que se d...</td>\n",
       "      <td>\\npelícula de terror postapocalíptico que se d...</td>\n",
       "    </tr>\n",
       "  </tbody>\n",
       "</table>\n",
       "</div>"
      ],
      "text/plain": [
       "                                                Original  \\\n",
       "35217  \\nUna vez más, las loables intenciones son mej...   \n",
       "91008  \\nHacer cine, hacer buen cine es una tarea con...   \n",
       "69408  \\n¿Quién dijo rigor histórico? Tarantino desde...   \n",
       "51452  \\nTony Scott dirige este remake del clásico de...   \n",
       "55503  \\nPelícula de terror postapocalíptico que se d...   \n",
       "\n",
       "                                              Minúsculas  \n",
       "35217  \\nuna vez más, las loables intenciones son mej...  \n",
       "91008  \\nhacer cine, hacer buen cine es una tarea con...  \n",
       "69408  \\n¿quién dijo rigor histórico? tarantino desde...  \n",
       "51452  \\ntony scott dirige este remake del clásico de...  \n",
       "55503  \\npelícula de terror postapocalíptico que se d...  "
      ]
     },
     "execution_count": 54,
     "metadata": {},
     "output_type": "execute_result"
    }
   ],
   "source": [
    "# Convertir texto a minúsculas\n",
    "X_train_lower = X_train.str.lower()\n",
    "\n",
    "# Mostrar 5 lineas\n",
    "pd.DataFrame({\n",
    "    'Original': X_train.head(5),\n",
    "    'Minúsculas': X_train_lower.head(5)\n",
    "})\n"
   ]
  },
  {
   "cell_type": "code",
   "execution_count": 55,
   "metadata": {},
   "outputs": [
    {
     "data": {
      "text/html": [
       "<div>\n",
       "<style scoped>\n",
       "    .dataframe tbody tr th:only-of-type {\n",
       "        vertical-align: middle;\n",
       "    }\n",
       "\n",
       "    .dataframe tbody tr th {\n",
       "        vertical-align: top;\n",
       "    }\n",
       "\n",
       "    .dataframe thead th {\n",
       "        text-align: right;\n",
       "    }\n",
       "</style>\n",
       "<table border=\"1\" class=\"dataframe\">\n",
       "  <thead>\n",
       "    <tr style=\"text-align: right;\">\n",
       "      <th></th>\n",
       "      <th>Minuscula</th>\n",
       "      <th>Sin caracteres especiales</th>\n",
       "    </tr>\n",
       "  </thead>\n",
       "  <tbody>\n",
       "    <tr>\n",
       "      <th>35217</th>\n",
       "      <td>\\nuna vez más, las loables intenciones son mej...</td>\n",
       "      <td>una vez más las loables intenciones son mejore...</td>\n",
       "    </tr>\n",
       "    <tr>\n",
       "      <th>91008</th>\n",
       "      <td>\\nhacer cine, hacer buen cine es una tarea con...</td>\n",
       "      <td>hacer cine hacer buen cine es una tarea conjun...</td>\n",
       "    </tr>\n",
       "    <tr>\n",
       "      <th>69408</th>\n",
       "      <td>\\n¿quién dijo rigor histórico? tarantino desde...</td>\n",
       "      <td>quién dijo rigor histórico tarantino desde lue...</td>\n",
       "    </tr>\n",
       "    <tr>\n",
       "      <th>51452</th>\n",
       "      <td>\\ntony scott dirige este remake del clásico de...</td>\n",
       "      <td>tony scott dirige este remake del clásico de a...</td>\n",
       "    </tr>\n",
       "    <tr>\n",
       "      <th>55503</th>\n",
       "      <td>\\npelícula de terror postapocalíptico que se d...</td>\n",
       "      <td>película de terror postapocalíptico que se dej...</td>\n",
       "    </tr>\n",
       "  </tbody>\n",
       "</table>\n",
       "</div>"
      ],
      "text/plain": [
       "                                               Minuscula  \\\n",
       "35217  \\nuna vez más, las loables intenciones son mej...   \n",
       "91008  \\nhacer cine, hacer buen cine es una tarea con...   \n",
       "69408  \\n¿quién dijo rigor histórico? tarantino desde...   \n",
       "51452  \\ntony scott dirige este remake del clásico de...   \n",
       "55503  \\npelícula de terror postapocalíptico que se d...   \n",
       "\n",
       "                               Sin caracteres especiales  \n",
       "35217  una vez más las loables intenciones son mejore...  \n",
       "91008  hacer cine hacer buen cine es una tarea conjun...  \n",
       "69408  quién dijo rigor histórico tarantino desde lue...  \n",
       "51452  tony scott dirige este remake del clásico de a...  \n",
       "55503  película de terror postapocalíptico que se dej...  "
      ]
     },
     "execution_count": 55,
     "metadata": {},
     "output_type": "execute_result"
    }
   ],
   "source": [
    "import re\n",
    "\n",
    "# 2. Eliminar caracteres especiales y números\n",
    "X_train_clean = X_train_lower.apply(lambda x: re.sub(r'[^a-záéíóúüñ\\s]', '', x))\n",
    "\n",
    "# Eliminar espacios extra\n",
    "X_train_clean = X_train_clean.apply(lambda x: re.sub(r'\\s+', ' ', x).strip())\n",
    "\n",
    "# Mostrar ejemplos\n",
    "pd.DataFrame({\n",
    "    'Minuscula': X_train_lower.head(5),\n",
    "    'Sin caracteres especiales': X_train_clean.head(5)\n",
    "})\n"
   ]
  },
  {
   "cell_type": "markdown",
   "metadata": {},
   "source": [
    "## 2) Representacion del texto\n",
    "\n",
    "Luego de tener los datos limpios, realizar la representación de los datos de texto para poder usarse en modelos de machine learning."
   ]
  },
  {
   "cell_type": "code",
   "execution_count": 56,
   "metadata": {},
   "outputs": [
    {
     "data": {
      "text/html": [
       "<div>\n",
       "<style scoped>\n",
       "    .dataframe tbody tr th:only-of-type {\n",
       "        vertical-align: middle;\n",
       "    }\n",
       "\n",
       "    .dataframe tbody tr th {\n",
       "        vertical-align: top;\n",
       "    }\n",
       "\n",
       "    .dataframe thead th {\n",
       "        text-align: right;\n",
       "    }\n",
       "</style>\n",
       "<table border=\"1\" class=\"dataframe\">\n",
       "  <thead>\n",
       "    <tr style=\"text-align: right;\">\n",
       "      <th></th>\n",
       "      <th>Texto original</th>\n",
       "      <th>Lematizado</th>\n",
       "    </tr>\n",
       "  </thead>\n",
       "  <tbody>\n",
       "    <tr>\n",
       "      <th>35217</th>\n",
       "      <td>una vez más las loables intenciones son mejore...</td>\n",
       "      <td>loabl intención mejor recompensa obtenidar amb...</td>\n",
       "    </tr>\n",
       "    <tr>\n",
       "      <th>91008</th>\n",
       "      <td>hacer cine hacer buen cine es una tarea conjun...</td>\n",
       "      <td>cine cine tarea conjunto ciento agente cumplir...</td>\n",
       "    </tr>\n",
       "    <tr>\n",
       "      <th>69408</th>\n",
       "      <td>quién dijo rigor histórico tarantino desde lue...</td>\n",
       "      <td>rigor histórico tarantino suerte salir cabeza ...</td>\n",
       "    </tr>\n",
       "    <tr>\n",
       "      <th>51452</th>\n",
       "      <td>tony scott dirige este remake del clásico de a...</td>\n",
       "      <td>tony scott dirigir remake clásico acción nombr...</td>\n",
       "    </tr>\n",
       "    <tr>\n",
       "      <th>55503</th>\n",
       "      <td>película de terror postapocalíptico que se dej...</td>\n",
       "      <td>película terror postapocalíptico dejar intriga...</td>\n",
       "    </tr>\n",
       "    <tr>\n",
       "      <th>145970</th>\n",
       "      <td>tercera película de la saga ocean de soderberg...</td>\n",
       "      <td>película saga ocear soderbergh clooney enorme ...</td>\n",
       "    </tr>\n",
       "    <tr>\n",
       "      <th>133792</th>\n",
       "      <td>se trata de una comedia romántica del montón c...</td>\n",
       "      <td>comedia romántico montón peculiaridad romantic...</td>\n",
       "    </tr>\n",
       "    <tr>\n",
       "      <th>3656</th>\n",
       "      <td>esta película es un viaje en el tiempo regresa...</td>\n",
       "      <td>película viaje tiempo regresar película ochent...</td>\n",
       "    </tr>\n",
       "    <tr>\n",
       "      <th>89722</th>\n",
       "      <td>film de honda y emotiva crítica y denuncia soc...</td>\n",
       "      <td>film honda emotivo crítico denuncia social sob...</td>\n",
       "    </tr>\n",
       "    <tr>\n",
       "      <th>49420</th>\n",
       "      <td>intenta transmitir tanta gravedad y profundida...</td>\n",
       "      <td>intentar transmitir tanto gravedad profundidad...</td>\n",
       "    </tr>\n",
       "  </tbody>\n",
       "</table>\n",
       "</div>"
      ],
      "text/plain": [
       "                                           Texto original  \\\n",
       "35217   una vez más las loables intenciones son mejore...   \n",
       "91008   hacer cine hacer buen cine es una tarea conjun...   \n",
       "69408   quién dijo rigor histórico tarantino desde lue...   \n",
       "51452   tony scott dirige este remake del clásico de a...   \n",
       "55503   película de terror postapocalíptico que se dej...   \n",
       "145970  tercera película de la saga ocean de soderberg...   \n",
       "133792  se trata de una comedia romántica del montón c...   \n",
       "3656    esta película es un viaje en el tiempo regresa...   \n",
       "89722   film de honda y emotiva crítica y denuncia soc...   \n",
       "49420   intenta transmitir tanta gravedad y profundida...   \n",
       "\n",
       "                                               Lematizado  \n",
       "35217   loabl intención mejor recompensa obtenidar amb...  \n",
       "91008   cine cine tarea conjunto ciento agente cumplir...  \n",
       "69408   rigor histórico tarantino suerte salir cabeza ...  \n",
       "51452   tony scott dirigir remake clásico acción nombr...  \n",
       "55503   película terror postapocalíptico dejar intriga...  \n",
       "145970  película saga ocear soderbergh clooney enorme ...  \n",
       "133792  comedia romántico montón peculiaridad romantic...  \n",
       "3656    película viaje tiempo regresar película ochent...  \n",
       "89722   film honda emotivo crítico denuncia social sob...  \n",
       "49420   intentar transmitir tanto gravedad profundidad...  "
      ]
     },
     "execution_count": 56,
     "metadata": {},
     "output_type": "execute_result"
    }
   ],
   "source": [
    "import spacy\n",
    "\n",
    "# 4. Tokenización y lematización\n",
    "nlp = spacy.load(\"es_core_news_sm\")\n",
    "\n",
    "def tokenizar_lemmatizar(texto):\n",
    "    doc = nlp(texto)\n",
    "    tokens_limpios = []\n",
    "    for token in doc:\n",
    "        # Filtramos signos, espacios y stopwords\n",
    "        if not token.is_stop and not token.is_punct and not token.is_space:\n",
    "            tokens_limpios.append(token.lemma_)\n",
    "    return \" \".join(tokens_limpios)\n",
    "\n",
    "# Aplicar a una muestra (para probar)\n",
    "X_train_lemmas = X_train_clean.head(10).apply(tokenizar_lemmatizar)\n",
    "\n",
    "# Comparar resultado\n",
    "pd.DataFrame({\n",
    "    'Texto original': X_train_clean.head(10),\n",
    "    'Lematizado': X_train_lemmas\n",
    "})\n"
   ]
  },
  {
   "cell_type": "code",
   "execution_count": 57,
   "metadata": {},
   "outputs": [],
   "source": [
    "from sklearn.feature_extraction.text import CountVectorizer\n",
    "\n",
    "vectorizer = CountVectorizer()\n",
    "X_train_vec = vectorizer.fit_transform(X_train_clean)\n",
    "X_test_vec = vectorizer.transform(X_test)\n"
   ]
  },
  {
   "cell_type": "markdown",
   "metadata": {
    "id": "3Yvvopa2mVox"
   },
   "source": [
    "## 3) Entrenar un modelo de machine learning de clasificación\n",
    "\n",
    "Utilizar un modelo de clasificación para entrenar y evaluar el modelo con los datos preparados.\n"
   ]
  },
  {
   "cell_type": "code",
   "execution_count": 58,
   "metadata": {
    "colab": {
     "base_uri": "https://localhost:8080/",
     "height": 80
    },
    "executionInfo": {
     "elapsed": 86,
     "status": "ok",
     "timestamp": 1742314553868,
     "user": {
      "displayName": "Carlos Bustillo",
      "userId": "14895763228834044971"
     },
     "user_tz": 180
    },
    "id": "Xm_vBOhymWjZ",
    "outputId": "1f7e8842-fdb5-4580-998a-797d8c69e20a"
   },
   "outputs": [
    {
     "name": "stdout",
     "output_type": "stream",
     "text": [
      "Accuracy: 0.7751\n",
      "              precision    recall  f1-score   support\n",
      "\n",
      "           0       0.76      0.75      0.75      4619\n",
      "           1       0.79      0.80      0.79      5381\n",
      "\n",
      "    accuracy                           0.78     10000\n",
      "   macro avg       0.77      0.77      0.77     10000\n",
      "weighted avg       0.77      0.78      0.77     10000\n",
      "\n"
     ]
    },
    {
     "name": "stderr",
     "output_type": "stream",
     "text": [
      "c:\\Users\\Ana Maria Gutierrez\\AppData\\Local\\Programs\\Python\\Python312\\Lib\\site-packages\\sklearn\\linear_model\\_logistic.py:473: ConvergenceWarning: lbfgs failed to converge after 1000 iteration(s) (status=1):\n",
      "STOP: TOTAL NO. OF ITERATIONS REACHED LIMIT\n",
      "\n",
      "Increase the number of iterations to improve the convergence (max_iter=1000).\n",
      "You might also want to scale the data as shown in:\n",
      "    https://scikit-learn.org/stable/modules/preprocessing.html\n",
      "Please also refer to the documentation for alternative solver options:\n",
      "    https://scikit-learn.org/stable/modules/linear_model.html#logistic-regression\n",
      "  n_iter_i = _check_optimize_result(\n"
     ]
    }
   ],
   "source": [
    "from sklearn.linear_model import LogisticRegression\n",
    "from sklearn.metrics import classification_report, accuracy_score\n",
    "\n",
    "model = LogisticRegression(max_iter=1000)\n",
    "model.fit(X_train_vec, y_train)\n",
    "\n",
    "# Predicciones\n",
    "y_pred = model.predict(X_test_vec)\n",
    "\n",
    "# Evaluación\n",
    "print(\"Accuracy:\", accuracy_score(y_test, y_pred))\n",
    "print(classification_report(y_test, y_pred))\n"
   ]
  },
  {
   "cell_type": "code",
   "execution_count": null,
   "metadata": {},
   "outputs": [],
   "source": []
  },
  {
   "cell_type": "markdown",
   "metadata": {
    "id": "Wt0Mxr1YmZO0"
   },
   "source": [
    "### Evaluar el modelo con los datos de prueba\n",
    "\n",
    "Usar el modelo para predecir en `X_test` y evaluar con `y_test`\n",
    "\n",
    "**Nota:** Recuerde que `X_test` debe pasar por los mismos procesos de limpieza y representación que `X_train`"
   ]
  },
  {
   "cell_type": "code",
   "execution_count": 59,
   "metadata": {},
   "outputs": [
    {
     "name": "stdout",
     "output_type": "stream",
     "text": [
      "📊 Evaluación del modelo de clasificación:\n",
      "\n",
      "Accuracy:  0.7751\n",
      "Precision: 0.7749\n",
      "Recall:    0.7751\n",
      "F1-score:  0.7749\n",
      "\n",
      "📋 Reporte de clasificación:\n",
      "              precision    recall  f1-score   support\n",
      "\n",
      "           0       0.76      0.75      0.75      4619\n",
      "           1       0.79      0.80      0.79      5381\n",
      "\n",
      "    accuracy                           0.78     10000\n",
      "   macro avg       0.77      0.77      0.77     10000\n",
      "weighted avg       0.77      0.78      0.77     10000\n",
      "\n"
     ]
    },
    {
     "data": {
      "image/png": "[encoded data removed]",
      "text/plain": [
       "<Figure size 600x400 with 2 Axes>"
      ]
     },
     "metadata": {},
     "output_type": "display_data"
    }
   ],
   "source": [
    "from sklearn.metrics import (\n",
    "    accuracy_score,\n",
    "    precision_score,\n",
    "    recall_score,\n",
    "    f1_score,\n",
    "    classification_report,\n",
    "    confusion_matrix\n",
    ")\n",
    "import seaborn as sns\n",
    "import matplotlib.pyplot as plt\n",
    "\n",
    "# 1. Predicciones del modelo\n",
    "y_pred = model.predict(X_test_vec)\n",
    "\n",
    "# 2. Métricas principales\n",
    "print(\"📊 Evaluación del modelo de clasificación:\\n\")\n",
    "print(f\"Accuracy:  {accuracy_score(y_test, y_pred):.4f}\")\n",
    "print(f\"Precision: {precision_score(y_test, y_pred, average='weighted'):.4f}\")\n",
    "print(f\"Recall:    {recall_score(y_test, y_pred, average='weighted'):.4f}\")\n",
    "print(f\"F1-score:  {f1_score(y_test, y_pred, average='weighted'):.4f}\")\n",
    "\n",
    "# 3. Reporte detallado\n",
    "print(\"\\n📋 Reporte de clasificación:\")\n",
    "print(classification_report(y_test, y_pred))\n",
    "\n",
    "# 4. Matriz de confusión\n",
    "cm = confusion_matrix(y_test, y_pred)\n",
    "\n",
    "plt.figure(figsize=(6,4))\n",
    "sns.heatmap(cm, annot=True, fmt='d', cmap='Blues')\n",
    "plt.title(\"Matriz de confusión\")\n",
    "plt.xlabel(\"Predicciones\")\n",
    "plt.ylabel(\"Reales\")\n",
    "plt.show()\n"
   ]
  },
  {
   "cell_type": "code",
   "execution_count": 60,
   "metadata": {
    "colab": {
     "base_uri": "https://localhost:8080/"
    },
    "executionInfo": {
     "elapsed": 33,
     "status": "ok",
     "timestamp": 1742314576802,
     "user": {
      "displayName": "Carlos Bustillo",
      "userId": "14895763228834044971"
     },
     "user_tz": 180
    },
    "id": "cJ9KMVyLmaX0",
    "outputId": "df20535f-365b-439f-db5a-0ae5270d0bfb"
   },
   "outputs": [
    {
     "name": "stdout",
     "output_type": "stream",
     "text": [
      "Accuracy: 0.7751\n",
      "Precision: 0.7856621670923021\n",
      "Recall: 0.8004088459394164\n",
      "F1 Score: 0.7929669520390316\n",
      "ROC AUC Score: 0.7730123900621524\n",
      "Reporte de clasificación:\n",
      "               precision    recall  f1-score   support\n",
      "\n",
      "           0       0.76      0.75      0.75      4619\n",
      "           1       0.79      0.80      0.79      5381\n",
      "\n",
      "    accuracy                           0.78     10000\n",
      "   macro avg       0.77      0.77      0.77     10000\n",
      "weighted avg       0.77      0.78      0.77     10000\n",
      "\n"
     ]
    }
   ],
   "source": [
    "print(\"Accuracy:\", accuracy_score(y_test, y_pred))\n",
    "print(\"Precision:\", precision_score(y_test, y_pred))\n",
    "print(\"Recall:\", recall_score(y_test, y_pred))\n",
    "print(\"F1 Score:\", f1_score(y_test, y_pred))\n",
    "print(\"ROC AUC Score:\", roc_auc_score(y_test, y_pred))\n",
    "print(\"Reporte de clasificación:\\n\", classification_report(y_test, y_pred))"
   ]
  },
  {
   "cell_type": "markdown",
   "metadata": {
    "id": "Q8EMg20rzGVw"
   },
   "source": [
    "**Guardar el modelo**"
   ]
  },
  {
   "cell_type": "code",
   "execution_count": 61,
   "metadata": {
    "colab": {
     "base_uri": "https://localhost:8080/"
    },
    "executionInfo": {
     "elapsed": 21,
     "status": "ok",
     "timestamp": 1742314634787,
     "user": {
      "displayName": "Carlos Bustillo",
      "userId": "14895763228834044971"
     },
     "user_tz": 180
    },
    "id": "mP9pEc3ezIey",
    "outputId": "4aaff043-6a9e-49f5-ec0a-657b9b879b82"
   },
   "outputs": [],
   "source": [
    "import joblib"
   ]
  },
  {
   "cell_type": "markdown",
   "metadata": {},
   "source": [
    "## Librerías Usadas"
   ]
  },
  {
   "cell_type": "code",
   "execution_count": 63,
   "metadata": {},
   "outputs": [
    {
     "name": "stdout",
     "output_type": "stream",
     "text": [
      "Python implementation: CPython\n",
      "Python version       : 3.12.10\n",
      "IPython version      : 9.6.0\n",
      "\n",
      "re        : 2.2.1\n",
      "joblib    : 1.5.2\n",
      "pandas    : 2.3.3\n",
      "sklearn   : 1.7.2\n",
      "matplotlib: 3.10.7\n",
      "seaborn   : 0.13.2\n",
      "textblob  : 0.19.0\n",
      "watermark : 2.5.0\n",
      "spacy     : 3.8.7\n",
      "\n"
     ]
    }
   ],
   "source": [
    "from watermark import watermark\n",
    "\n",
    "print(watermark(python=True, iversions=True, globals_=globals()))"
   ]
  },
  {
   "cell_type": "markdown",
   "metadata": {},
   "source": [
    "---\n",
    "\n",
    "## Referencias\n",
    "- [CountVectorizer](https://scikit-learn.org/stable/modules/generated/sklearn.feature_extraction.text.CountVectorizer.html)\n",
    "- [TfidfVectorizer](https://scikit-learn.org/stable/modules/generated/sklearn.feature_extraction.text.TfidfVectorizer.html)\n",
    "- [Classification of text documents using sparse features](https://scikit-learn.org/stable/auto_examples/text/plot_document_classification_20newsgroups.html)\n",
    "- Ejemplo de Entrenamiento y selección de Modelo de machine learning entre varios modelos <https://joserzapata.github.io/post/ciencia-datos-proyecto-python/6-model_selection/>\n",
    "- https://joserzapata.github.io/courses/python-ciencia-datos/python/\n",
    "- https://joserzapata.github.io/courses/python-ciencia-datos/pandas/\n",
    "- https://joserzapata.github.io/courses/python-ciencia-datos/machine-learning/"
   ]
  },
  {
   "cell_type": "markdown",
   "metadata": {},
   "source": [
    "Docente: [Jose R. Zapata](https://joserzapata.github.io)\n",
    "\n",
    "- [https://joserzapata.github.io/](https://joserzapata.github.io/)\n",
    "- [https://www.linkedin.com/in/jose-ricardo-zapata-gonzalez/](https://www.linkedin.com/in/jose-ricardo-zapata-gonzalez/)"
   ]
  }
 ],
 "metadata": {
  "accelerator": "GPU",
  "colab": {
   "authorship_tag": "ABX9TyO2onnY6t+Q8frrcGj/XGl2",
   "collapsed_sections": [
    "TcXzT5msVNnF",
    "yWXYzke6qtI3"
   ],
   "gpuType": "T4",
   "provenance": []
  },
  "kernelspec": {
   "display_name": "Python 3",
   "language": "python",
   "name": "python3"
  },
  "language_info": {
   "codemirror_mode": {
    "name": "ipython",
    "version": 3
   },
   "file_extension": ".py",
   "mimetype": "text/x-python",
   "name": "python",
   "nbconvert_exporter": "python",
   "pygments_lexer": "ipython3",
   "version": "3.12.10"
  }
 },
 "nbformat": 4,
 "nbformat_minor": 0
}
